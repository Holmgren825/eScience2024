{
 "cells": [
  {
   "cell_type": "markdown",
   "metadata": {},
   "source": [
    "# Using xarray to read EBAS data\n",
    "\n",
    "See more at http://ebas.nilu.no/\n",
    "and https://ebas.nilu.no/thredds/\n",
    "\n",
    "requirements\n",
    "pip install threddsclient\n",
    "\n",
    "The EBAS database collects observational data on atmospheric chemical composition and physical properties from a variety of national and international research projects and monitoring programs, such as ACTRIS, AMAP, EMEP, GAW and HELCOM, as well as for the Norwegian monitoring programs funded by the Norwegian Environment Agency, the Ministry of Climate and Environment and NILU – Norwegian Institute for Air Research.\n",
    "\n",
    "See all files available:\n",
    "https://thredds.nilu.no/thredds/catalog/ebas/catalog.html"
   ]
  },
  {
   "cell_type": "code",
   "execution_count": 1,
   "metadata": {},
   "outputs": [],
   "source": [
    "# You need to first install threddsclient:\n",
    "# remember to do in terminal pip install threddsclient\n",
    "import threddsclient\n",
    "import xarray as xr"
   ]
  },
  {
   "cell_type": "code",
   "execution_count": null,
   "metadata": {},
   "outputs": [],
   "source": [
    "# Find url addresses for files on EBAS\n",
    "\n",
    "all_opendap_urls = threddsclient.opendap_urls(\n",
    "'https://thredds.nilu.no/thredds/catalog/ebas/catalog.xml')"
   ]
  },
  {
   "cell_type": "code",
   "execution_count": null,
   "metadata": {},
   "outputs": [],
   "source": [
    "#Example 1 nephelometer scattering coefficient data\n",
    "# get all data urls for one station, e.g., Zeppelin NO0042G\n",
    "opendap_urls = [x for x in all_opendap_urls if 'NO0042G' in x]\n",
    "# get all scattering data urls\n",
    "opendap_urls = [x for x in opendap_urls if 'nephelometer' in x]\n",
    "\n",
    "opendap_urls"
   ]
  },
  {
   "cell_type": "code",
   "execution_count": null,
   "metadata": {},
   "outputs": [],
   "source": [
    "# read multiple files\n",
    "# the problem with this example is, \n",
    "#    that the files are from different instruments\n",
    "#    thus, they need to be treated and digested one by one.\n",
    "\n",
    "dsmf = xr.open_mfdataset(opendap_urls)\n",
    "dsmf"
   ]
  },
  {
   "cell_type": "code",
   "execution_count": null,
   "metadata": {},
   "outputs": [],
   "source": [
    "# Example 2 aerosol sulphate data \n",
    "# also here - \n",
    "#    the files are differently shaped for different periods\n",
    "#    best to read single files, analyse, and then concatenate for longer time series\n",
    "#    note that catalogue file names give no full description of what is in a file\n",
    "\n",
    "# get all data urls for one station, e.g., Zeppelin NO0042G\n",
    "opendap_urls = [x for x in all_opendap_urls if 'NO0042G' in x]\n",
    "\n",
    "# get all data urls which could contain sulphate data, exclude some\n",
    "opendap_urls = [x for x in opendap_urls if 'filter_3pack' in x]\n",
    "opendap_urls = [x for x in opendap_urls if not 'sum_ammonia' in x]\n",
    "opendap_urls = [x for x in opendap_urls if not 'sulphur_dioxide' in x]\n",
    "\n",
    "opendap_urls"
   ]
  },
  {
   "cell_type": "code",
   "execution_count": null,
   "metadata": {},
   "outputs": [],
   "source": [
    "file_to_read = opendap_urls[0]\n",
    "file_to_read"
   ]
  },
  {
   "cell_type": "code",
   "execution_count": null,
   "metadata": {},
   "outputs": [],
   "source": [
    "ds_single_file = xr.open_dataset(file_to_read)\n",
    "ds_single_file"
   ]
  },
  {
   "cell_type": "code",
   "execution_count": null,
   "metadata": {},
   "outputs": [],
   "source": [
    "ds_single_file['sulphate_total_ug_S_per_m3'].plot()"
   ]
  }
 ],
 "metadata": {
  "kernelspec": {
   "display_name": "Python [conda env:pangeo-notebook]",
   "language": "python",
   "name": "conda-env-pangeo-notebook-py"
  },
  "language_info": {
   "codemirror_mode": {
    "name": "ipython",
    "version": 3
   },
   "file_extension": ".py",
   "mimetype": "text/x-python",
   "name": "python",
   "nbconvert_exporter": "python",
   "pygments_lexer": "ipython3",
   "version": "3.11.8"
  }
 },
 "nbformat": 4,
 "nbformat_minor": 4
}
